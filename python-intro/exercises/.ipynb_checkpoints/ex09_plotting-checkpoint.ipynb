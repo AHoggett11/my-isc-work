{
 "cells": [
  {
   "cell_type": "markdown",
   "id": "829d141c-f9df-4623-a146-376548745683",
   "metadata": {
    "editable": true,
    "slideshow": {
     "slide_type": ""
    },
    "tags": []
   },
   "source": [
    "# Exercise 9: Plotting with `matplotlib`"
   ]
  },
  {
   "cell_type": "markdown",
   "id": "dc7ae3ea-49ef-46a7-8db5-3249f25b3b9b",
   "metadata": {},
   "source": [
    "## Aim: Use `pyplot` to create time series plots."
   ]
  },
  {
   "cell_type": "markdown",
   "id": "2ca667c7-2ff3-4828-8a7b-147d6cdfe2be",
   "metadata": {},
   "source": [
    "### Issues covered:\n",
    "- Import `pyplot` from `matplotlib`\n",
    "- Create a basic time series plot from lists\n",
    "- Create a plot from a `pandas` DataFrame\n",
    "- Plot multiple series on one graph\n",
    "- Create different kinds of plots - including scatter and bar graphs"
   ]
  },
  {
   "cell_type": "markdown",
   "id": "359977f2-af21-4ee1-b957-66d3e09fcca7",
   "metadata": {},
   "source": [
    "## 1. Create a simple time series from a list"
   ]
  },
  {
   "cell_type": "markdown",
   "id": "1387a54b-2cf4-41a2-8497-334b4989a5da",
   "metadata": {
    "editable": true,
    "slideshow": {
     "slide_type": ""
    },
    "tags": []
   },
   "source": [
    "Import `matplotlib.pyplot` as `plt`, then create two datasets - one for the time values `[0, 10, 20, 30]`, and one for the positions with the value `[0, 200, 400, 600]`."
   ]
  },
  {
   "cell_type": "code",
   "execution_count": 1,
   "id": "e045729e-e211-4c7f-bbfa-4de6e0d97b4a",
   "metadata": {
    "editable": true,
    "slideshow": {
     "slide_type": ""
    },
    "tags": [
     "clear_answer_cell"
    ]
   },
   "outputs": [],
   "source": [
    "import matplotlib.pyplot as plt\n",
    "time = [0, 10, 20, 30]\n",
    "positions = [0, 200, 400, 600]"
   ]
  },
  {
   "cell_type": "markdown",
   "id": "e15c4d73-bb75-4581-abcb-5a4264d6280f",
   "metadata": {
    "editable": true,
    "slideshow": {
     "slide_type": ""
    },
    "tags": []
   },
   "source": [
    "Plot the data using `plt.plot()` and add axis labels."
   ]
  },
  {
   "cell_type": "code",
   "execution_count": 2,
   "id": "ef059b01-478f-4696-982a-c36fddcbf9b0",
   "metadata": {
    "editable": true,
    "slideshow": {
     "slide_type": ""
    },
    "tags": [
     "clear_answer_cell"
    ]
   },
   "outputs": [
    {
     "data": {
      "text/plain": [
       "Text(0, 0.5, 'Positions')"
      ]
     },
     "execution_count": 2,
     "metadata": {},
     "output_type": "execute_result"
    },
    {
     "data": {
      "image/png": "[encoded data removed]",
      "text/plain": [
       "<Figure size 432x288 with 1 Axes>"
      ]
     },
     "metadata": {
      "needs_background": "light"
     },
     "output_type": "display_data"
    }
   ],
   "source": [
    "plt.plot(time, positions)\n",
    "plt.xlabel('Time')\n",
    "plt.ylabel('Positions')"
   ]
  },
  {
   "cell_type": "markdown",
   "id": "5b38ecb0-1397-417b-a708-db45181ab8a0",
   "metadata": {},
   "source": [
    "## 2. Create a plot from a DataFrame"
   ]
  },
  {
   "cell_type": "markdown",
   "id": "49e01685-b6dc-46b2-ba4e-e6a5763b75d4",
   "metadata": {
    "editable": true,
    "slideshow": {
     "slide_type": ""
    },
    "tags": []
   },
   "source": [
    "Create a dataframe that we will use to make a plot. Use the file `data/oceania_gdp` and index it by country. "
   ]
  },
  {
   "cell_type": "code",
   "execution_count": 10,
   "id": "89300fbc-9f17-4b44-a3e0-6216c486aee7",
   "metadata": {},
   "outputs": [
    {
     "name": "stdout",
     "output_type": "stream",
     "text": [
      "             gdpPercap_1952  gdpPercap_1957  gdpPercap_1962  gdpPercap_1967  \\\n",
      "country                                                                       \n",
      "Australia       10039.59564     10949.64959     12217.22686     14526.12465   \n",
      "New Zealand     10556.57566     12247.39532     13175.67800     14463.91893   \n",
      "\n",
      "             gdpPercap_1972  gdpPercap_1977  gdpPercap_1982  gdpPercap_1987  \\\n",
      "country                                                                       \n",
      "Australia       16788.62948     18334.19751     19477.00928     21888.88903   \n",
      "New Zealand     16046.03728     16233.71770     17632.41040     19007.19129   \n",
      "\n",
      "             gdpPercap_1992  gdpPercap_1997  gdpPercap_2002  gdpPercap_2007  \n",
      "country                                                                      \n",
      "Australia       23424.76683     26997.93657     30687.75473     34435.36744  \n",
      "New Zealand     18363.32494     21050.41377     23189.80135     25185.00911  \n"
     ]
    }
   ],
   "source": [
    "import pandas as pd\n",
    "data_oceania = pd.read_csv('../data/oceania_gdp.csv', index_col=('country'))\n",
    "print(data_oceania)"
   ]
  },
  {
   "cell_type": "markdown",
   "id": "b5b1b76a-0be3-4080-bd1f-9a363c85c922",
   "metadata": {
    "editable": true,
    "slideshow": {
     "slide_type": ""
    },
    "tags": []
   },
   "source": [
    "Extract the year from the last 4 characters of the column names using:\n",
    "```\n",
    "data.columns.str.replace('gdpPercap_', '')\n",
    "```"
   ]
  },
  {
   "cell_type": "code",
   "execution_count": 12,
   "id": "12ce0da5-d7a9-459c-b5d3-4697646b4a1e",
   "metadata": {
    "editable": true,
    "slideshow": {
     "slide_type": ""
    },
    "tags": [
     "clear_answer_cell"
    ]
   },
   "outputs": [],
   "source": [
    "years = data_oceania.columns.str.replace('gdpPercap_', '')"
   ]
  },
  {
   "cell_type": "markdown",
   "id": "b2146833-4ac7-45d7-aa30-2d2a10e7da7d",
   "metadata": {
    "editable": true,
    "slideshow": {
     "slide_type": ""
    },
    "tags": []
   },
   "source": [
    "Convert the years values to integers using `astype()`and save the results back to the dataframe."
   ]
  },
  {
   "cell_type": "code",
   "execution_count": 13,
   "id": "2797c7ce-dbe8-4cc7-930c-165f24812223",
   "metadata": {
    "editable": true,
    "slideshow": {
     "slide_type": ""
    },
    "tags": [
     "clear_answer_cell"
    ]
   },
   "outputs": [],
   "source": [
    "data_oceania.columns = years.astype(int)"
   ]
  },
  {
   "cell_type": "markdown",
   "id": "90f7c956-ab79-4d50-a9a4-11f079bd7462",
   "metadata": {
    "editable": true,
    "slideshow": {
     "slide_type": ""
    },
    "tags": []
   },
   "source": [
    "Plot the resulting data. Set the x and y axis labels to `Year` and `GDP per capita` respectively."
   ]
  },
  {
   "cell_type": "code",
   "execution_count": 16,
   "id": "c44cbad7-b04a-48ae-9f3d-51f0944cbd1c",
   "metadata": {
    "editable": true,
    "slideshow": {
     "slide_type": ""
    },
    "tags": [
     "clear_answer_cell"
    ]
   },
   "outputs": [
    {
     "data": {
      "text/plain": [
       "Text(0, 0.5, 'GDP per capita')"
      ]
     },
     "execution_count": 16,
     "metadata": {},
     "output_type": "execute_result"
    },
    {
     "data": {
      "image/png": "[encoded data removed]",
      "text/plain": [
       "<Figure size 432x288 with 1 Axes>"
      ]
     },
     "metadata": {
      "needs_background": "light"
     },
     "output_type": "display_data"
    }
   ],
   "source": [
    "data_oceania.loc['Australia'].plot()\n",
    "data_oceania.loc['New Zealand'].plot()\n",
    "plt.xlabel('Year')\n",
    "plt.ylabel('GDP per capita')"
   ]
  },
  {
   "cell_type": "markdown",
   "id": "bc0a3be8-8675-40e7-8632-c4d64c5a4d79",
   "metadata": {},
   "source": [
    "## 3. Plot multiple series"
   ]
  },
  {
   "cell_type": "markdown",
   "id": "e763190f-386b-4c90-96d5-e768e6fa04c7",
   "metadata": {
    "editable": true,
    "slideshow": {
     "slide_type": ""
    },
    "tags": []
   },
   "source": [
    "Plot multiple series using `.T.plot()` and set the axis labels to `Year` and `GDP per capita` again"
   ]
  },
  {
   "cell_type": "code",
   "execution_count": 17,
   "id": "443ec95b-6ccd-42e8-a0ec-279299bcf5b0",
   "metadata": {
    "editable": true,
    "slideshow": {
     "slide_type": ""
    },
    "tags": [
     "clear_answer_cell"
    ]
   },
   "outputs": [
    {
     "data": {
      "text/plain": [
       "Text(0, 0.5, 'GDP per capita')"
      ]
     },
     "execution_count": 17,
     "metadata": {},
     "output_type": "execute_result"
    },
    {
     "data": {
      "image/png": "[encoded data removed]",
      "text/plain": [
       "<Figure size 432x288 with 1 Axes>"
      ]
     },
     "metadata": {
      "needs_background": "light"
     },
     "output_type": "display_data"
    }
   ],
   "source": [
    "data_oceania.T.plot()\n",
    "plt.xlabel('Year')\n",
    "plt.ylabel('GDP per capita')"
   ]
  },
  {
   "cell_type": "markdown",
   "id": "f37d0942-8269-4f1e-8524-3cff1d113eb6",
   "metadata": {},
   "source": [
    "## 4. Plot some different types of graphs"
   ]
  },
  {
   "cell_type": "markdown",
   "id": "e15c35b3-d498-4b54-a376-90e9296a5922",
   "metadata": {
    "editable": true,
    "slideshow": {
     "slide_type": ""
    },
    "tags": []
   },
   "source": [
    "Plot the data in the form of a bar chart, including axis labels."
   ]
  },
  {
   "cell_type": "code",
   "execution_count": 18,
   "id": "b6dd18d0-6d3d-48e3-84fe-2f6479f531a9",
   "metadata": {
    "editable": true,
    "slideshow": {
     "slide_type": ""
    },
    "tags": [
     "clear_answer_cell"
    ]
   },
   "outputs": [
    {
     "data": {
      "text/plain": [
       "Text(0, 0.5, 'GDP per capita')"
      ]
     },
     "execution_count": 18,
     "metadata": {},
     "output_type": "execute_result"
    },
    {
     "data": {
      "image/png": "[encoded data removed]",
      "text/plain": [
       "<Figure size 432x288 with 1 Axes>"
      ]
     },
     "metadata": {
      "needs_background": "light"
     },
     "output_type": "display_data"
    }
   ],
   "source": [
    "data_oceania.T.plot(kind='bar')\n",
    "plt.xlabel('Year')\n",
    "plt.ylabel('GDP per capita')"
   ]
  },
  {
   "cell_type": "markdown",
   "id": "a1609d38-c8e5-4711-a577-c8c4ef741684",
   "metadata": {
    "editable": true,
    "slideshow": {
     "slide_type": ""
    },
    "tags": []
   },
   "source": [
    "Create a variable called `years`, setting the value as the columns from your dataframe. Create a variable called `gdp_australia` which uses `loc()` to get the data for Australia. Try making a plot by calling the `plt.plot(x,y)` function directly for `years` on the x axis and `gdp_australia` on the y axis. Plot the data using a blue dashed line."
   ]
  },
  {
   "cell_type": "code",
   "execution_count": 20,
   "id": "362a52f5-b853-4335-a8ec-8dbaf8b3213c",
   "metadata": {
    "editable": true,
    "slideshow": {
     "slide_type": ""
    },
    "tags": [
     "clear_answer_cell"
    ]
   },
   "outputs": [
    {
     "data": {
      "text/plain": [
       "[<matplotlib.lines.Line2D at 0x7f2e71828d00>]"
      ]
     },
     "execution_count": 20,
     "metadata": {},
     "output_type": "execute_result"
    },
    {
     "data": {
      "image/png": "[encoded data removed]",
      "text/plain": [
       "<Figure size 432x288 with 1 Axes>"
      ]
     },
     "metadata": {
      "needs_background": "light"
     },
     "output_type": "display_data"
    }
   ],
   "source": [
    "years = data_oceania.columns\n",
    "gdp_australia = data_oceania.loc['Australia']\n",
    "plt.plot(years,gdp_australia, 'b--')"
   ]
  },
  {
   "cell_type": "markdown",
   "id": "572b2994-09d3-436f-9f8f-6deada5ce7f7",
   "metadata": {
    "editable": true,
    "slideshow": {
     "slide_type": ""
    },
    "tags": []
   },
   "source": [
    "Plot multiple datasets on the same graph by following the steps above for both Australia and New Zealand. Include axis labels and a legend. Plot New Zealand with a green dashed line and Australia a red dashed line."
   ]
  },
  {
   "cell_type": "code",
   "execution_count": 22,
   "id": "94fa587e-a8e2-427b-a403-ebe613b21e46",
   "metadata": {
    "editable": true,
    "slideshow": {
     "slide_type": ""
    },
    "tags": [
     "clear_answer_cell"
    ]
   },
   "outputs": [
    {
     "data": {
      "text/plain": [
       "<matplotlib.legend.Legend at 0x7f2e7182b100>"
      ]
     },
     "execution_count": 22,
     "metadata": {},
     "output_type": "execute_result"
    },
    {
     "data": {
      "image/png": "[encoded data removed]",
      "text/plain": [
       "<Figure size 432x288 with 1 Axes>"
      ]
     },
     "metadata": {
      "needs_background": "light"
     },
     "output_type": "display_data"
    }
   ],
   "source": [
    "gdp_nz = data_oceania.loc['New Zealand']\n",
    "plt.plot(years, gdp_australia, 'r--', label='Australia')\n",
    "plt.plot(years, gdp_nz, 'g--', label='New Zealand')\n",
    "plt.xlabel('Years')\n",
    "plt.ylabel('GDP per capita')\n",
    "plt.legend(loc='upper left')"
   ]
  },
  {
   "cell_type": "markdown",
   "id": "c8de7333-337c-4791-9667-df008c97d9b7",
   "metadata": {
    "editable": true,
    "slideshow": {
     "slide_type": ""
    },
    "tags": []
   },
   "source": [
    "Create a scatter plot using `plt.scatter()` to compare the GDP of Australia and New Zealand."
   ]
  },
  {
   "cell_type": "code",
   "execution_count": 23,
   "id": "1094947a-0858-4283-a54a-5203321950f9",
   "metadata": {
    "editable": true,
    "slideshow": {
     "slide_type": ""
    },
    "tags": [
     "clear_answer_cell"
    ]
   },
   "outputs": [
    {
     "data": {
      "text/plain": [
       "<matplotlib.collections.PathCollection at 0x7f2e6f669420>"
      ]
     },
     "execution_count": 23,
     "metadata": {},
     "output_type": "execute_result"
    },
    {
     "data": {
      "image/png": "[encoded data removed]",
      "text/plain": [
       "<Figure size 432x288 with 1 Axes>"
      ]
     },
     "metadata": {
      "needs_background": "light"
     },
     "output_type": "display_data"
    }
   ],
   "source": [
    "plt.scatter(gdp_australia, gdp_nz)"
   ]
  },
  {
   "cell_type": "markdown",
   "id": "e0b7be4f-86b0-4537-aaa1-ca1dc0e9e826",
   "metadata": {},
   "source": [
    "## 5. Extension activity: Customise a plot and save it."
   ]
  },
  {
   "cell_type": "markdown",
   "id": "023a55ae-e5f9-4a2a-823f-44fd5d0c8e4e",
   "metadata": {},
   "source": [
    "1. Create an x axis using `x = np.arange(0, 5, 0.1)`. Print it out to see what this line of code does."
   ]
  },
  {
   "cell_type": "markdown",
   "id": "011ef001-1c61-4cf9-89a8-958b68bc7d06",
   "metadata": {},
   "source": [
    "_Hint: Remember to import `numpy` as `np`._"
   ]
  },
  {
   "cell_type": "code",
   "execution_count": 25,
   "id": "e3fabef6-1199-43a0-892a-cbd1d9b5a5ae",
   "metadata": {
    "editable": true,
    "slideshow": {
     "slide_type": ""
    },
    "tags": [
     "clear_answer_cell"
    ]
   },
   "outputs": [
    {
     "name": "stdout",
     "output_type": "stream",
     "text": [
      "[0.  0.1 0.2 0.3 0.4 0.5 0.6 0.7 0.8 0.9 1.  1.1 1.2 1.3 1.4 1.5 1.6 1.7\n",
      " 1.8 1.9 2.  2.1 2.2 2.3 2.4 2.5 2.6 2.7 2.8 2.9 3.  3.1 3.2 3.3 3.4 3.5\n",
      " 3.6 3.7 3.8 3.9 4.  4.1 4.2 4.3 4.4 4.5 4.6 4.7 4.8 4.9]\n"
     ]
    }
   ],
   "source": [
    "import numpy as np\n",
    "x = np.arange(0, 5, 0.1)\n",
    "print(x)"
   ]
  },
  {
   "cell_type": "markdown",
   "id": "fb0ebb62-eea4-4baa-af87-9741eaacebcd",
   "metadata": {},
   "source": [
    "2. Create a y axis with values $sin(x)$ using a relevant function from `numpy` with the x values from the previous question."
   ]
  },
  {
   "cell_type": "code",
   "execution_count": 27,
   "id": "4bcdb740-210f-4304-b551-67471bf98e0d",
   "metadata": {
    "editable": true,
    "slideshow": {
     "slide_type": ""
    },
    "tags": [
     "clear_answer_cell"
    ]
   },
   "outputs": [
    {
     "name": "stdout",
     "output_type": "stream",
     "text": [
      "[ 0.          0.09983342  0.19866933  0.29552021  0.38941834  0.47942554\n",
      "  0.56464247  0.64421769  0.71735609  0.78332691  0.84147098  0.89120736\n",
      "  0.93203909  0.96355819  0.98544973  0.99749499  0.9995736   0.99166481\n",
      "  0.97384763  0.94630009  0.90929743  0.86320937  0.8084964   0.74570521\n",
      "  0.67546318  0.59847214  0.51550137  0.42737988  0.33498815  0.23924933\n",
      "  0.14112001  0.04158066 -0.05837414 -0.15774569 -0.2555411  -0.35078323\n",
      " -0.44252044 -0.52983614 -0.61185789 -0.68776616 -0.7568025  -0.81827711\n",
      " -0.87157577 -0.91616594 -0.95160207 -0.97753012 -0.993691   -0.99992326\n",
      " -0.99616461 -0.98245261]\n"
     ]
    }
   ],
   "source": [
    "y = np.sin(x)\n",
    "print(y)"
   ]
  },
  {
   "cell_type": "markdown",
   "id": "5b8a3d70-097d-4b5c-9ec5-df4088e3aef4",
   "metadata": {},
   "source": [
    "3. Use `pyplot` to plot these values. "
   ]
  },
  {
   "cell_type": "code",
   "execution_count": 28,
   "id": "1b9a20ad-17e3-425f-a105-9bb1a4b9dafb",
   "metadata": {
    "editable": true,
    "slideshow": {
     "slide_type": ""
    },
    "tags": [
     "clear_answer_cell"
    ]
   },
   "outputs": [
    {
     "data": {
      "text/plain": [
       "[<matplotlib.lines.Line2D at 0x7f2e6f3e6a40>]"
      ]
     },
     "execution_count": 28,
     "metadata": {},
     "output_type": "execute_result"
    },
    {
     "data": {
      "image/png": "[encoded data removed]",
      "text/plain": [
       "<Figure size 432x288 with 1 Axes>"
      ]
     },
     "metadata": {
      "needs_background": "light"
     },
     "output_type": "display_data"
    }
   ],
   "source": [
    "plt.plot(x, y)"
   ]
  },
  {
   "cell_type": "markdown",
   "id": "d48c4111-b92e-4c90-a9f7-40a4c8ddb4d5",
   "metadata": {},
   "source": [
    "4. Plot a cos graph on the same graph as the sin curve. Add a legend and axis labels. Customise the colours too if you like."
   ]
  },
  {
   "cell_type": "code",
   "execution_count": 30,
   "id": "5bcb653e-bbc4-4f1c-af03-5e5961b55cb6",
   "metadata": {
    "editable": true,
    "slideshow": {
     "slide_type": ""
    },
    "tags": [
     "clear_answer_cell"
    ]
   },
   "outputs": [
    {
     "data": {
      "text/plain": [
       "<matplotlib.legend.Legend at 0x7f2e6f3f9e70>"
      ]
     },
     "execution_count": 30,
     "metadata": {},
     "output_type": "execute_result"
    },
    {
     "data": {
      "image/png": "[encoded data removed]",
      "text/plain": [
       "<Figure size 432x288 with 1 Axes>"
      ]
     },
     "metadata": {
      "needs_background": "light"
     },
     "output_type": "display_data"
    }
   ],
   "source": [
    "z = np.cos(x)\n",
    "plt.plot(x, y, 'b-', label='Sin(x)')\n",
    "plt.plot(x, z, 'r-', label='Cos(x)')\n",
    "plt.legend(loc='upper right')"
   ]
  },
  {
   "cell_type": "markdown",
   "id": "0458ddf6-5e75-4778-8e2d-0768a350811a",
   "metadata": {},
   "source": [
    "5. Save your plot to a file in the `images` folder using `plt.savefig('filename')`."
   ]
  },
  {
   "cell_type": "code",
   "execution_count": 31,
   "id": "89fe847f-891d-46d1-b369-5059128a95bb",
   "metadata": {
    "editable": true,
    "slideshow": {
     "slide_type": ""
    },
    "tags": [
     "clear_answer_cell"
    ]
   },
   "outputs": [
    {
     "data": {
      "text/plain": [
       "<Figure size 432x288 with 0 Axes>"
      ]
     },
     "metadata": {},
     "output_type": "display_data"
    }
   ],
   "source": [
    "plt.savefig('Sin Cos Graph.png')"
   ]
  },
  {
   "cell_type": "code",
   "execution_count": null,
   "id": "42a58aee-03e4-4c57-b55e-819ef0e95ab2",
   "metadata": {},
   "outputs": [],
   "source": []
  }
 ],
 "metadata": {
  "kernelspec": {
   "display_name": "Python 3 + Jaspy",
   "language": "python",
   "name": "jaspy"
  },
  "language_info": {
   "codemirror_mode": {
    "name": "ipython",
    "version": 3
   },
   "file_extension": ".py",
   "mimetype": "text/x-python",
   "name": "python",
   "nbconvert_exporter": "python",
   "pygments_lexer": "ipython3",
   "version": "3.10.5"
  }
 },
 "nbformat": 4,
 "nbformat_minor": 5
}
